{
  "cells": [
    {
      "cell_type": "code",
      "execution_count": null,
      "metadata": {
        "id": "MfAgliHOZXbL"
      },
      "outputs": [],
      "source": [
        "import pandas as pd\n",
        "import matplotlib.pyplot as plt\n",
        "import seaborn as sns\n",
        "import numpy as np\n",
        "from sklearn.linear_model import LinearRegression\n",
        "from sklearn.metrics import mean_squared_error\n",
        "from sklearn.model_selection import train_test_split\n",
        "from IPython.core.interactiveshell import InteractiveShell\n",
        "from sklearn.model_selection import cross_val_score\n",
        "from mlxtend.feature_selection import SequentialFeatureSelector as SFS\n",
        "import statsmodels.api as sm\n",
        "from sklearn.preprocessing import OneHotEncoder"
      ]
    },
    {
      "cell_type": "code",
      "execution_count": 9,
      "metadata": {
        "colab": {
          "base_uri": "https://localhost:8080/"
        },
        "id": "W1tNip83cEn7",
        "outputId": "150123d1-9fff-4d1f-e84f-4784638977bf"
      },
      "outputs": [
        {
          "name": "stdout",
          "output_type": "stream",
          "text": [
            "Mounted at /content/drive\n",
            "/content/drive/MyDrive/STAT315_FinalProject\n"
          ]
        }
      ],
      "source": [
        "from google.colab import drive\n",
        "drive.mount('/content/drive')\n",
        "\n",
        "%cd '/content/drive/MyDrive/STAT315_FinalProject/'\n",
        "\n",
        "austin = pd.read_csv(\"listings-2.csv\", index_col=0)\n",
        "df = pd.DataFrame(austin)\n"
      ]
    },
    {
      "cell_type": "code",
      "execution_count": null,
      "metadata": {},
      "outputs": [],
      "source": [
        "import matplotlib.pyplot as plt\n",
        "import seaborn as sns\n",
        "\n",
        "sns.set(style=\"whitegrid\")\n",
        "\n",
        "plt.figure(figsize=(10,6))\n",
        "sns.histplot(df['price'].dropna(), bins=50, kde=True) # Plots the distribution of price\n",
        "\n",
        "plt.title('Distribution of Listing Prices', fontsize=18)\n",
        "plt.xlabel('Price ($)', fontsize=14)\n",
        "plt.ylabel('Number of Listings', fontsize=14)\n",
        "\n",
        "plt.show()"
      ]
    },
    {
      "cell_type": "code",
      "execution_count": null,
      "metadata": {},
      "outputs": [],
      "source": [
        "import matplotlib.pyplot as plt\n",
        "import seaborn as sns\n",
        "\n",
        "sns.set(style=\"whitegrid\")\n",
        "\n",
        "plt.figure(figsize=(10,6))\n",
        "sns.histplot(df['price'].dropna(), bins=50, kde=True, log_scale=(True, False)) #Puts the x-axis in log scale so the distribution isn't so clustered\n",
        "\n",
        "plt.title('Distribution of Listing Prices', fontsize=18)\n",
        "plt.xlabel('Price ($)', fontsize=14)\n",
        "plt.ylabel('Number of Listings', fontsize=14)\n",
        "\n",
        "plt.show()"
      ]
    },
    {
      "cell_type": "code",
      "execution_count": null,
      "metadata": {},
      "outputs": [],
      "source": [
        "sns.set(style=\"whitegrid\")\n",
        "\n",
        "df_filtered = df[df['price'] > 0] # Only keeps listings with positive prices\n",
        "\n",
        "plt.figure(figsize=(12,8))\n",
        "sns.histplot(\n",
        "    data=df_filtered,\n",
        "    x='price',\n",
        "    hue='room_type', # color by room type\n",
        "    bins=50,\n",
        "    kde=True,\n",
        "    log_scale=(True, False)\n",
        ")\n",
        "\n",
        "plt.title('Distribution of Listing Prices by Room Type (Log Scale)', fontsize=18)\n",
        "plt.xlabel('Price ($) - Log Scale', fontsize=14)\n",
        "plt.ylabel('Number of Listings', fontsize=14)\n",
        "\n",
        "plt.legend(title='Room Type', labels=df_filtered['room_type'].unique())\n",
        "plt.show()\n"
      ]
    },
    {
      "cell_type": "code",
      "execution_count": null,
      "metadata": {},
      "outputs": [],
      "source": [
        "sns.set(style=\"whitegrid\")\n",
        "\n",
        "df_zip = df_filtered[df_filtered['neighbourhood'].isin(top_zipcodes)].copy()\n",
        "df_zip['neighbourhood'] = df_zip['neighbourhood'].astype(str)\n",
        "\n",
        "plt.figure(figsize=(12,8))\n",
        "sns.boxplot(\n",
        "    data=df_zip,\n",
        "    x='neighbourhood',\n",
        "    y='price',        \n",
        "    palette='Set2'   \n",
        ")\n",
        "\n",
        "plt.yscale('log')\n",
        "\n",
        "plt.title('Listing Prices by ZIP Code (Top 5)', fontsize=18)\n",
        "plt.xlabel('ZIP Code', fontsize=14)\n",
        "plt.ylabel('Price ($) - Log Scale', fontsize=14)\n",
        "\n",
        "plt.show()"
      ]
    },
    {
      "cell_type": "code",
      "execution_count": null,
      "metadata": {},
      "outputs": [],
      "source": [
        "sns.set(style=\"whitegrid\")\n",
        "\n",
        "top_zipcodes = df_filtered['neighbourhood'].value_counts().head(5).index.tolist()\n",
        "\n",
        "df_zip = df_filtered[df_filtered['neighbourhood'].isin(top_zipcodes)].copy()\n",
        "\n",
        "df_zip['neighbourhood'] = df_zip['neighbourhood'].astype(str)\n",
        "\n",
        "plt.figure(figsize=(12,8))\n",
        "sns.histplot(\n",
        "    data=df_zip,\n",
        "    x='price',\n",
        "    hue='neighbourhood',\n",
        "    bins=50,\n",
        "    kde=True,\n",
        "    log_scale=(True, False)\n",
        ")\n",
        "\n",
        "plt.title('Distribution of Listing Prices by ZIP Code (Top 5)', fontsize=18)\n",
        "plt.xlabel('Price ($) - Log Scale', fontsize=14)\n",
        "plt.ylabel('Number of Listings', fontsize=14)\n",
        "\n",
        "plt.legend(title='ZIP Code')\n",
        "plt.show()"
      ]
    },
    {
      "cell_type": "code",
      "execution_count": null,
      "metadata": {},
      "outputs": [],
      "source": []
    },
    {
      "cell_type": "code",
      "execution_count": 10,
      "metadata": {
        "colab": {
          "base_uri": "https://localhost:8080/",
          "height": 101
        },
        "id": "LtucSzAm5aeQ",
        "outputId": "98d7cad8-d22b-4d63-bc48-12e9356680a2"
      },
      "outputs": [
        {
          "data": {
            "application/vnd.google.colaboratory.intrinsic+json": {
              "repr_error": "Out of range float values are not JSON compliant: nan",
              "type": "dataframe"
            },
            "text/html": [
              "\n",
              "  <div id=\"df-7bcfeb8f-e717-4c05-a140-f9b0185ad132\" class=\"colab-df-container\">\n",
              "    <div>\n",
              "<style scoped>\n",
              "    .dataframe tbody tr th:only-of-type {\n",
              "        vertical-align: middle;\n",
              "    }\n",
              "\n",
              "    .dataframe tbody tr th {\n",
              "        vertical-align: top;\n",
              "    }\n",
              "\n",
              "    .dataframe thead th {\n",
              "        text-align: right;\n",
              "    }\n",
              "</style>\n",
              "<table border=\"1\" class=\"dataframe\">\n",
              "  <thead>\n",
              "    <tr style=\"text-align: right;\">\n",
              "      <th></th>\n",
              "      <th>neighbourhood_group</th>\n",
              "      <th>neighbourhood</th>\n",
              "      <th>latitude</th>\n",
              "      <th>longitude</th>\n",
              "      <th>room_type</th>\n",
              "      <th>price</th>\n",
              "      <th>minimum_nights</th>\n",
              "      <th>number_of_reviews</th>\n",
              "      <th>last_review</th>\n",
              "      <th>reviews_per_month</th>\n",
              "      <th>calculated_host_listings_count</th>\n",
              "      <th>availability_365</th>\n",
              "      <th>number_of_reviews_ltm</th>\n",
              "      <th>log_minimum_nights</th>\n",
              "      <th>log_number_of_reviews</th>\n",
              "      <th>log_price</th>\n",
              "      <th>distance_to_center</th>\n",
              "    </tr>\n",
              "    <tr>\n",
              "      <th>id</th>\n",
              "      <th></th>\n",
              "      <th></th>\n",
              "      <th></th>\n",
              "      <th></th>\n",
              "      <th></th>\n",
              "      <th></th>\n",
              "      <th></th>\n",
              "      <th></th>\n",
              "      <th></th>\n",
              "      <th></th>\n",
              "      <th></th>\n",
              "      <th></th>\n",
              "      <th></th>\n",
              "      <th></th>\n",
              "      <th></th>\n",
              "      <th></th>\n",
              "      <th></th>\n",
              "    </tr>\n",
              "  </thead>\n",
              "  <tbody>\n",
              "  </tbody>\n",
              "</table>\n",
              "</div>\n",
              "    <div class=\"colab-df-buttons\">\n",
              "\n",
              "  <div class=\"colab-df-container\">\n",
              "    <button class=\"colab-df-convert\" onclick=\"convertToInteractive('df-7bcfeb8f-e717-4c05-a140-f9b0185ad132')\"\n",
              "            title=\"Convert this dataframe to an interactive table.\"\n",
              "            style=\"display:none;\">\n",
              "\n",
              "  <svg xmlns=\"http://www.w3.org/2000/svg\" height=\"24px\" viewBox=\"0 -960 960 960\">\n",
              "    <path d=\"M120-120v-720h720v720H120Zm60-500h600v-160H180v160Zm220 220h160v-160H400v160Zm0 220h160v-160H400v160ZM180-400h160v-160H180v160Zm440 0h160v-160H620v160ZM180-180h160v-160H180v160Zm440 0h160v-160H620v160Z\"/>\n",
              "  </svg>\n",
              "    </button>\n",
              "\n",
              "  <style>\n",
              "    .colab-df-container {\n",
              "      display:flex;\n",
              "      gap: 12px;\n",
              "    }\n",
              "\n",
              "    .colab-df-convert {\n",
              "      background-color: #E8F0FE;\n",
              "      border: none;\n",
              "      border-radius: 50%;\n",
              "      cursor: pointer;\n",
              "      display: none;\n",
              "      fill: #1967D2;\n",
              "      height: 32px;\n",
              "      padding: 0 0 0 0;\n",
              "      width: 32px;\n",
              "    }\n",
              "\n",
              "    .colab-df-convert:hover {\n",
              "      background-color: #E2EBFA;\n",
              "      box-shadow: 0px 1px 2px rgba(60, 64, 67, 0.3), 0px 1px 3px 1px rgba(60, 64, 67, 0.15);\n",
              "      fill: #174EA6;\n",
              "    }\n",
              "\n",
              "    .colab-df-buttons div {\n",
              "      margin-bottom: 4px;\n",
              "    }\n",
              "\n",
              "    [theme=dark] .colab-df-convert {\n",
              "      background-color: #3B4455;\n",
              "      fill: #D2E3FC;\n",
              "    }\n",
              "\n",
              "    [theme=dark] .colab-df-convert:hover {\n",
              "      background-color: #434B5C;\n",
              "      box-shadow: 0px 1px 3px 1px rgba(0, 0, 0, 0.15);\n",
              "      filter: drop-shadow(0px 1px 2px rgba(0, 0, 0, 0.3));\n",
              "      fill: #FFFFFF;\n",
              "    }\n",
              "  </style>\n",
              "\n",
              "    <script>\n",
              "      const buttonEl =\n",
              "        document.querySelector('#df-7bcfeb8f-e717-4c05-a140-f9b0185ad132 button.colab-df-convert');\n",
              "      buttonEl.style.display =\n",
              "        google.colab.kernel.accessAllowed ? 'block' : 'none';\n",
              "\n",
              "      async function convertToInteractive(key) {\n",
              "        const element = document.querySelector('#df-7bcfeb8f-e717-4c05-a140-f9b0185ad132');\n",
              "        const dataTable =\n",
              "          await google.colab.kernel.invokeFunction('convertToInteractive',\n",
              "                                                    [key], {});\n",
              "        if (!dataTable) return;\n",
              "\n",
              "        const docLinkHtml = 'Like what you see? Visit the ' +\n",
              "          '<a target=\"_blank\" href=https://colab.research.google.com/notebooks/data_table.ipynb>data table notebook</a>'\n",
              "          + ' to learn more about interactive tables.';\n",
              "        element.innerHTML = '';\n",
              "        dataTable['output_type'] = 'display_data';\n",
              "        await google.colab.output.renderOutput(dataTable, element);\n",
              "        const docLink = document.createElement('div');\n",
              "        docLink.innerHTML = docLinkHtml;\n",
              "        element.appendChild(docLink);\n",
              "      }\n",
              "    </script>\n",
              "  </div>\n",
              "\n",
              "\n",
              "    </div>\n",
              "  </div>\n"
            ],
            "text/plain": [
              "Empty DataFrame\n",
              "Columns: [neighbourhood_group, neighbourhood, latitude, longitude, room_type, price, minimum_nights, number_of_reviews, last_review, reviews_per_month, calculated_host_listings_count, availability_365, number_of_reviews_ltm, log_minimum_nights, log_number_of_reviews, log_price, distance_to_center]\n",
              "Index: []"
            ]
          },
          "execution_count": 10,
          "metadata": {},
          "output_type": "execute_result"
        }
      ],
      "source": [
        "df.isnull().any()\n",
        "df = df.drop(columns=['license', 'host_name', 'name', 'host_id', 'id'], errors='ignore')\n",
        "\n",
        "df['price'] = df['price'].fillna(df['price'].median())\n",
        "df['reviews_per_month'] = df['reviews_per_month'].fillna(df['reviews_per_month'].median())\n",
        "\n",
        "df['log_minimum_nights'] = np.log1p(df['minimum_nights'])\n",
        "df['log_number_of_reviews'] = np.log1p(df['number_of_reviews'])\n",
        "df['log_price'] = np.log1p(df['price'])\n",
        "\n",
        "# found coordinates for downtown austin\n",
        "downtown_lat, downtown_lon = 30.2711, -97.7437\n",
        "\n",
        "# found the distance between two coordinates\n",
        "df['distance_to_center'] = np.sqrt(\n",
        "    (69 * (df['latitude'] - downtown_lat))**2 +\n",
        "    (54.6 * (df['longitude'] - downtown_lon))**2\n",
        ")\n",
        "\n",
        "df.dropna()"
      ]
    },
    {
      "cell_type": "code",
      "execution_count": 11,
      "metadata": {
        "id": "JUvC_fpA5V3W"
      },
      "outputs": [],
      "source": [
        "enc = OneHotEncoder(sparse_output=False, handle_unknown='ignore')\n",
        "\n",
        "encoded_x = enc.fit_transform(df[['room_type']])\n",
        "\n",
        "column_names = enc.categories_[0]\n",
        "encoded_df = pd.DataFrame(encoded_x, columns=column_names, index=df.index)\n",
        "\n",
        "df = pd.concat([df, encoded_df], axis = 1)\n",
        "\n",
        "X = df[['neighbourhood','latitude','longitude', 'Entire home/apt', 'Hotel room', 'Private room', 'Shared room',\n",
        "        'latitude', 'log_number_of_reviews', 'calculated_host_listings_count', 'availability_365', 'log_minimum_nights', 'distance_to_center']]\n",
        "\n",
        "y = df['log_price'].astype(float)"
      ]
    },
    {
      "cell_type": "code",
      "execution_count": 12,
      "metadata": {
        "id": "nC_Jln2Nn8B8"
      },
      "outputs": [],
      "source": [
        "X_train, X_test, y_train, y_test = train_test_split(X, y, test_size = 0.2)"
      ]
    },
    {
      "cell_type": "code",
      "execution_count": 13,
      "metadata": {
        "colab": {
          "base_uri": "https://localhost:8080/"
        },
        "id": "2cgfIzusEOJI",
        "outputId": "d27aaa9d-e813-418c-b54a-ad001471ead2"
      },
      "outputs": [
        {
          "name": "stdout",
          "output_type": "stream",
          "text": [
            "Selected features: ['Private room', 'log_minimum_nights', 'neighbourhood', 'Shared room', 'longitude', 'log_number_of_reviews', 'availability_365', 'distance_to_center', 'latitude', 'calculated_host_listings_count', 'Entire home/apt', 'Hotel room']\n",
            "Root Mean Squared Error: 0.6650229040193892\n"
          ]
        }
      ],
      "source": [
        "def forward_selection(X, y):\n",
        "    selected_features = []\n",
        "    while True:\n",
        "        remaining_features = [f for f in X.columns if f not in selected_features]\n",
        "        new_pval = pd.Series(index=remaining_features)\n",
        "        for feature in remaining_features:\n",
        "            model = sm.OLS(y, sm.add_constant(X[selected_features + [feature]])).fit()\n",
        "            new_pval[feature] = model.pvalues[feature]\n",
        "        min_pval = new_pval.min()\n",
        "        if min_pval < 0.01:\n",
        "            selected_features.append(new_pval.idxmin())\n",
        "        else:\n",
        "            break\n",
        "    final_model = sm.OLS(y, sm.add_constant(X[selected_features])).fit()\n",
        "\n",
        "    return selected_features, final_model\n",
        "\n",
        "selected, model = forward_selection(X_train, y_train)\n",
        "\n",
        "print(\"Selected features:\", selected)\n",
        "\n",
        "reg = LinearRegression()\n",
        "reg.fit(X_train[selected], y_train)\n",
        "y_pred = reg.predict(X_test[selected])\n",
        "\n",
        "rmse = np.sqrt(mean_squared_error(y_test, y_pred))\n",
        "print(\"Root Mean Squared Error: {}\".format(rmse))\n"
      ]
    },
    {
      "cell_type": "code",
      "execution_count": 14,
      "metadata": {
        "colab": {
          "base_uri": "https://localhost:8080/"
        },
        "id": "8Ou-YcekEOt9",
        "outputId": "067b7655-3663-48b1-e5fe-2a0bc92f68af"
      },
      "outputs": [
        {
          "name": "stdout",
          "output_type": "stream",
          "text": [
            "Selected features: ['neighbourhood', 'latitude', 'longitude', 'Entire home/apt', 'Hotel room', 'Private room', 'Shared room', 'latitude', 'log_number_of_reviews', 'calculated_host_listings_count', 'availability_365', 'log_minimum_nights', 'distance_to_center']\n",
            "Root Mean Squared Error: 0.6650229040193903\n"
          ]
        }
      ],
      "source": [
        "def backward_elimination(X, y, threshold_in=0.01):\n",
        "    selected_features = list(X.columns)\n",
        "\n",
        "    while True:\n",
        "        model = sm.OLS(y, sm.add_constant(X[selected_features])).fit()\n",
        "        pvalues = model.pvalues.iloc[1:]\n",
        "\n",
        "        max_pval = pvalues.max()\n",
        "\n",
        "        if max_pval > threshold_in:\n",
        "            excluded_feature = pvalues.idxmax()\n",
        "            selected_features.remove(excluded_feature)\n",
        "        else:\n",
        "            break\n",
        "    final_model = sm.OLS(y, sm.add_constant(X[selected_features])).fit()\n",
        "    return selected_features, final_model\n",
        "\n",
        "selected, model = backward_elimination(X_train, y_train)\n",
        "\n",
        "print(\"Selected features:\", selected)\n",
        "\n",
        "reg = LinearRegression()\n",
        "reg.fit(X_train[selected], y_train)\n",
        "y_pred = reg.predict(X_test[selected])\n",
        "\n",
        "rmse = np.sqrt(mean_squared_error(y_test, y_pred))\n",
        "print(\"Root Mean Squared Error: {}\".format(rmse))"
      ]
    },
    {
      "cell_type": "code",
      "execution_count": 15,
      "metadata": {
        "colab": {
          "base_uri": "https://localhost:8080/"
        },
        "id": "jQZSpVMetZiB",
        "outputId": "6a0ede8a-7768-4ee1-8ac3-472c040e718c"
      },
      "outputs": [
        {
          "name": "stdout",
          "output_type": "stream",
          "text": [
            "Requirement already satisfied: print-versions in /usr/local/lib/python3.11/dist-packages (0.1.0)\n",
            "pandas==2.2.2\n",
            "seaborn==0.13.2\n",
            "numpy==2.0.2\n",
            "mlxtend==0.23.4\n",
            "statsmodels.api==0.14.4\n",
            "pip==24.1.2\n",
            "statsmodels==0.14.4\n"
          ]
        }
      ],
      "source": [
        "# !pip install print-versions\n",
        "# from print_versions import print_versions\n",
        "\n",
        "# import numpy as np\n",
        "# from pandas import DataFrame\n",
        "\n",
        "# print_versions(globals())"
      ]
    }
  ],
  "metadata": {
    "colab": {
      "provenance": []
    },
    "kernelspec": {
      "display_name": "Python 3",
      "name": "python3"
    },
    "language_info": {
      "name": "python"
    }
  },
  "nbformat": 4,
  "nbformat_minor": 0
}
